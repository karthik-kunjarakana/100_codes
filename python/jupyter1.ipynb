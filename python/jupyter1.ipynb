{
 "cells": [
  {
   "cell_type": "code",
   "execution_count": null,
   "id": "62035ea2",
   "metadata": {},
   "outputs": [],
   "source": [
    "#Program to check whether the input string palindrome or not"
   ]
  },
  {
   "cell_type": "code",
   "execution_count": 3,
   "id": "88f77dd3",
   "metadata": {},
   "outputs": [
    {
     "name": "stdout",
     "output_type": "stream",
     "text": [
      "Enter the String: 56\n",
      "Not a palindrome\n"
     ]
    }
   ],
   "source": [
    "string1=input(\"Enter the String: \")\n",
    "string2=string1[::-1]\n",
    "if string1==string2:\n",
    "    print(\"Palindrome\")\n",
    "else:\n",
    "    print(\"Not a palindrome\")"
   ]
  },
  {
   "cell_type": "code",
   "execution_count": null,
   "id": "1431cb4d",
   "metadata": {},
   "outputs": [],
   "source": [
    "# Repetition of a character in a string"
   ]
  },
  {
   "cell_type": "code",
   "execution_count": 7,
   "id": "fa6c37d1",
   "metadata": {},
   "outputs": [
    {
     "name": "stdout",
     "output_type": "stream",
     "text": [
      "Enter the input string: nemesis\n",
      "Enter the character: e\n",
      "2\n"
     ]
    }
   ],
   "source": [
    "string = input(\"Enter the input string: \")\n",
    "character =input(\"Enter the character: \")\n",
    "freq=0\n",
    "freq=string.count(character)\n",
    "print(str(freq))"
   ]
  },
  {
   "cell_type": "code",
   "execution_count": 1,
   "id": "dbe05fe4",
   "metadata": {},
   "outputs": [],
   "source": [
    "# Program to find the sum between the given ranges"
   ]
  },
  {
   "cell_type": "code",
   "execution_count": 2,
   "id": "7ad4ffeb",
   "metadata": {},
   "outputs": [
    {
     "name": "stdout",
     "output_type": "stream",
     "text": [
      "Enter the initial range :1\n",
      "Enter the final range :3\n",
      "Sum Between the ranges 1 and 3 is 6.\n"
     ]
    }
   ],
   "source": [
    "Sum=0\n",
    "num1=int(input(\"Enter the initial range :\"))\n",
    "num2=int(input(\"Enter the final range :\"))\n",
    "for i in range(num1,num2+1):\n",
    "    Sum+=i\n",
    "print(f'Sum Between the ranges {num1} and {num2} is {Sum}.')"
   ]
  },
  {
   "cell_type": "code",
   "execution_count": null,
   "id": "1679dc5d",
   "metadata": {},
   "outputs": [],
   "source": []
  },
  {
   "cell_type": "code",
   "execution_count": 2,
   "id": "71367000",
   "metadata": {},
   "outputs": [
    {
     "name": "stdout",
     "output_type": "stream",
     "text": [
      "Enter a number : 5\n",
      "fn(5)=3\n"
     ]
    }
   ],
   "source": [
    "def fn(n):\n",
    "    if n==1:\n",
    "        return 0\n",
    "    elif n==2:\n",
    "        return 1\n",
    "    else:\n",
    "        return fn(n-1)+fn(n-2)\n",
    "num = int(input(\"Enter a number : \" ))\n",
    "if num>0:\n",
    "    print(\"fn(\",num,\")=\",fn(num),sep=\"\")\n",
    "else:\n",
    "    print(\"Invalid!\")\n"
   ]
  },
  {
   "cell_type": "code",
   "execution_count": null,
   "id": "7af9b80b",
   "metadata": {},
   "outputs": [],
   "source": []
  }
 ],
 "metadata": {
  "kernelspec": {
   "display_name": "Python 3 (ipykernel)",
   "language": "python",
   "name": "python3"
  },
  "language_info": {
   "codemirror_mode": {
    "name": "ipython",
    "version": 3
   },
   "file_extension": ".py",
   "mimetype": "text/x-python",
   "name": "python",
   "nbconvert_exporter": "python",
   "pygments_lexer": "ipython3",
   "version": "3.11.5"
  }
 },
 "nbformat": 4,
 "nbformat_minor": 5
}
